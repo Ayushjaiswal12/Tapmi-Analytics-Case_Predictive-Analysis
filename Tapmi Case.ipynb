{
 "cells": [
  {
   "cell_type": "markdown",
   "id": "56667a08",
   "metadata": {},
   "source": [
    "# Importing libraries"
   ]
  },
  {
   "cell_type": "code",
   "execution_count": 1,
   "id": "ee780c94",
   "metadata": {},
   "outputs": [],
   "source": [
    "import pandas as pd\n",
    "import numpy as np\n",
    "import scipy\n",
    "import re\n",
    "\n",
    "#For Visualization\n",
    "import matplotlib.pyplot as plt\n",
    "plt.rcParams.update({'figure.max_open_warning': 0})\n",
    "\n",
    "import matplotlib\n",
    "matplotlib.use('nbagg')\n",
    "\n",
    "import seaborn as sns\n",
    "\n",
    "\n",
    "#Data Preprocessing \n",
    "from sklearn.preprocessing import OneHotEncoder\n",
    "from sklearn.preprocessing import LabelEncoder\n",
    "from sklearn.preprocessing import StandardScaler\n",
    "from sklearn.preprocessing import MinMaxScaler\n",
    "from sklearn.decomposition import PCA\n",
    "\n",
    "\n",
    "#For Model Selection\n",
    "from sklearn.model_selection import train_test_split\n",
    "from sklearn.model_selection import GridSearchCV\n",
    "from sklearn.model_selection import cross_val_score\n",
    "\n",
    "#For Model Evaluation\n",
    "from sklearn.metrics import accuracy_score, log_loss\n",
    "from sklearn.metrics import roc_auc_score,f1_score,recall_score,precision_score,plot_confusion_matrix,confusion_matrix,classification_report\n",
    "\n",
    "#Classification Models\n",
    "from catboost import CatBoostClassifier, Pool, cv\n",
    "from lightgbm import LGBMClassifier\n",
    "\n",
    "\n",
    "import warnings\n",
    "\n",
    "warnings.simplefilter('ignore')\n",
    "\n",
    "import warnings\n",
    "warnings.filterwarnings('ignore')\n",
    "\n",
    "import matplotlib.pyplot as plt\n",
    "import seaborn as sns\n",
    "\n",
    "from sklearn.model_selection import train_test_split, cross_val_score\n",
    "\n",
    "from sklearn.naive_bayes import GaussianNB\n",
    "from sklearn.tree import DecisionTreeClassifier\n",
    "from sklearn.ensemble import RandomForestClassifier, AdaBoostClassifier, GradientBoostingClassifier, BaggingClassifier\n",
    "from sklearn.discriminant_analysis import LinearDiscriminantAnalysis\n",
    "from sklearn.neighbors import KNeighborsClassifier\n",
    "from sklearn.svm import SVC, LinearSVC\n",
    "from sklearn.experimental import enable_hist_gradient_boosting\n",
    "from sklearn.ensemble import HistGradientBoostingClassifier\n",
    "import xgboost as xgb\n",
    "%matplotlib inline"
   ]
  },
  {
   "cell_type": "code",
   "execution_count": 2,
   "id": "460e0ef0",
   "metadata": {},
   "outputs": [],
   "source": [
    "data=pd.read_csv(\"train.csv\")"
   ]
  },
  {
   "cell_type": "code",
   "execution_count": 3,
   "id": "6f096bc8",
   "metadata": {},
   "outputs": [
    {
     "data": {
      "text/html": [
       "<div>\n",
       "<style scoped>\n",
       "    .dataframe tbody tr th:only-of-type {\n",
       "        vertical-align: middle;\n",
       "    }\n",
       "\n",
       "    .dataframe tbody tr th {\n",
       "        vertical-align: top;\n",
       "    }\n",
       "\n",
       "    .dataframe thead th {\n",
       "        text-align: right;\n",
       "    }\n",
       "</style>\n",
       "<table border=\"1\" class=\"dataframe\">\n",
       "  <thead>\n",
       "    <tr style=\"text-align: right;\">\n",
       "      <th></th>\n",
       "      <th>id</th>\n",
       "      <th>publisherAppSize</th>\n",
       "      <th>publisherAppPrice(in USD)</th>\n",
       "      <th>publisherAppRatingTotal</th>\n",
       "      <th>publisherAppUserRating</th>\n",
       "      <th>publisherAppAgeRating</th>\n",
       "      <th>publisherAppGenre</th>\n",
       "      <th>country</th>\n",
       "      <th>gender</th>\n",
       "      <th>age</th>\n",
       "      <th>device</th>\n",
       "      <th>type</th>\n",
       "      <th>value</th>\n",
       "      <th>AdvertiserAppSize</th>\n",
       "      <th>AdvertiserAppPrice(in USD)</th>\n",
       "      <th>AdvertiserAppTotalRating</th>\n",
       "      <th>AdvertiserAppUserRating</th>\n",
       "      <th>AdvertiserAppAgeRating</th>\n",
       "      <th>AdvertiserAppGenre</th>\n",
       "      <th>clicked</th>\n",
       "    </tr>\n",
       "  </thead>\n",
       "  <tbody>\n",
       "    <tr>\n",
       "      <th>0</th>\n",
       "      <td>1</td>\n",
       "      <td>68217856</td>\n",
       "      <td>0.99</td>\n",
       "      <td>0</td>\n",
       "      <td>0.0</td>\n",
       "      <td>3</td>\n",
       "      <td>7</td>\n",
       "      <td>79</td>\n",
       "      <td>0</td>\n",
       "      <td>40</td>\n",
       "      <td>1</td>\n",
       "      <td>CPM</td>\n",
       "      <td>2.226520</td>\n",
       "      <td>52120576</td>\n",
       "      <td>0.99</td>\n",
       "      <td>14</td>\n",
       "      <td>5.0</td>\n",
       "      <td>4</td>\n",
       "      <td>0</td>\n",
       "      <td>1</td>\n",
       "    </tr>\n",
       "    <tr>\n",
       "      <th>1</th>\n",
       "      <td>2</td>\n",
       "      <td>262118400</td>\n",
       "      <td>0.00</td>\n",
       "      <td>0</td>\n",
       "      <td>0.0</td>\n",
       "      <td>1</td>\n",
       "      <td>7</td>\n",
       "      <td>12</td>\n",
       "      <td>0</td>\n",
       "      <td>36</td>\n",
       "      <td>3</td>\n",
       "      <td>CPM</td>\n",
       "      <td>2.440259</td>\n",
       "      <td>53506048</td>\n",
       "      <td>2.99</td>\n",
       "      <td>96</td>\n",
       "      <td>4.5</td>\n",
       "      <td>1</td>\n",
       "      <td>6</td>\n",
       "      <td>1</td>\n",
       "    </tr>\n",
       "    <tr>\n",
       "      <th>2</th>\n",
       "      <td>3</td>\n",
       "      <td>90249216</td>\n",
       "      <td>2.99</td>\n",
       "      <td>0</td>\n",
       "      <td>0.0</td>\n",
       "      <td>4</td>\n",
       "      <td>14</td>\n",
       "      <td>99</td>\n",
       "      <td>1</td>\n",
       "      <td>43</td>\n",
       "      <td>3</td>\n",
       "      <td>CPM</td>\n",
       "      <td>1.186457</td>\n",
       "      <td>65553408</td>\n",
       "      <td>1.99</td>\n",
       "      <td>309</td>\n",
       "      <td>4.0</td>\n",
       "      <td>1</td>\n",
       "      <td>6</td>\n",
       "      <td>0</td>\n",
       "    </tr>\n",
       "    <tr>\n",
       "      <th>3</th>\n",
       "      <td>4</td>\n",
       "      <td>68122624</td>\n",
       "      <td>0.00</td>\n",
       "      <td>10275</td>\n",
       "      <td>4.5</td>\n",
       "      <td>1</td>\n",
       "      <td>7</td>\n",
       "      <td>229</td>\n",
       "      <td>0</td>\n",
       "      <td>30</td>\n",
       "      <td>0</td>\n",
       "      <td>CPM</td>\n",
       "      <td>2.843841</td>\n",
       "      <td>11611136</td>\n",
       "      <td>2.99</td>\n",
       "      <td>185</td>\n",
       "      <td>2.5</td>\n",
       "      <td>1</td>\n",
       "      <td>6</td>\n",
       "      <td>0</td>\n",
       "    </tr>\n",
       "    <tr>\n",
       "      <th>4</th>\n",
       "      <td>5</td>\n",
       "      <td>64692224</td>\n",
       "      <td>0.00</td>\n",
       "      <td>3731</td>\n",
       "      <td>4.5</td>\n",
       "      <td>1</td>\n",
       "      <td>7</td>\n",
       "      <td>99</td>\n",
       "      <td>0</td>\n",
       "      <td>24</td>\n",
       "      <td>2</td>\n",
       "      <td>CPM</td>\n",
       "      <td>2.029833</td>\n",
       "      <td>114951168</td>\n",
       "      <td>0.00</td>\n",
       "      <td>51</td>\n",
       "      <td>3.5</td>\n",
       "      <td>2</td>\n",
       "      <td>12</td>\n",
       "      <td>0</td>\n",
       "    </tr>\n",
       "  </tbody>\n",
       "</table>\n",
       "</div>"
      ],
      "text/plain": [
       "   id  publisherAppSize  publisherAppPrice(in USD)  publisherAppRatingTotal  \\\n",
       "0   1          68217856                       0.99                        0   \n",
       "1   2         262118400                       0.00                        0   \n",
       "2   3          90249216                       2.99                        0   \n",
       "3   4          68122624                       0.00                    10275   \n",
       "4   5          64692224                       0.00                     3731   \n",
       "\n",
       "   publisherAppUserRating  publisherAppAgeRating  publisherAppGenre  country  \\\n",
       "0                     0.0                      3                  7       79   \n",
       "1                     0.0                      1                  7       12   \n",
       "2                     0.0                      4                 14       99   \n",
       "3                     4.5                      1                  7      229   \n",
       "4                     4.5                      1                  7       99   \n",
       "\n",
       "   gender  age  device type     value  AdvertiserAppSize  \\\n",
       "0       0   40       1  CPM  2.226520           52120576   \n",
       "1       0   36       3  CPM  2.440259           53506048   \n",
       "2       1   43       3  CPM  1.186457           65553408   \n",
       "3       0   30       0  CPM  2.843841           11611136   \n",
       "4       0   24       2  CPM  2.029833          114951168   \n",
       "\n",
       "   AdvertiserAppPrice(in USD)  AdvertiserAppTotalRating  \\\n",
       "0                        0.99                        14   \n",
       "1                        2.99                        96   \n",
       "2                        1.99                       309   \n",
       "3                        2.99                       185   \n",
       "4                        0.00                        51   \n",
       "\n",
       "   AdvertiserAppUserRating  AdvertiserAppAgeRating  AdvertiserAppGenre  \\\n",
       "0                      5.0                       4                   0   \n",
       "1                      4.5                       1                   6   \n",
       "2                      4.0                       1                   6   \n",
       "3                      2.5                       1                   6   \n",
       "4                      3.5                       2                  12   \n",
       "\n",
       "   clicked  \n",
       "0        1  \n",
       "1        1  \n",
       "2        0  \n",
       "3        0  \n",
       "4        0  "
      ]
     },
     "execution_count": 3,
     "metadata": {},
     "output_type": "execute_result"
    }
   ],
   "source": [
    "data=data.drop(columns=['Unnamed: 0'])\n",
    "data.head()"
   ]
  },
  {
   "cell_type": "code",
   "execution_count": 4,
   "id": "6c3998c2",
   "metadata": {},
   "outputs": [
    {
     "name": "stdout",
     "output_type": "stream",
     "text": [
      "<class 'pandas.core.frame.DataFrame'>\n",
      "RangeIndex: 980239 entries, 0 to 980238\n",
      "Data columns (total 20 columns):\n",
      " #   Column                      Non-Null Count   Dtype  \n",
      "---  ------                      --------------   -----  \n",
      " 0   id                          980239 non-null  int64  \n",
      " 1   publisherAppSize            980239 non-null  int64  \n",
      " 2   publisherAppPrice(in USD)   980239 non-null  float64\n",
      " 3   publisherAppRatingTotal     980239 non-null  int64  \n",
      " 4   publisherAppUserRating      980239 non-null  float64\n",
      " 5   publisherAppAgeRating       980239 non-null  int64  \n",
      " 6   publisherAppGenre           980239 non-null  int64  \n",
      " 7   country                     980239 non-null  int64  \n",
      " 8   gender                      980239 non-null  int64  \n",
      " 9   age                         980239 non-null  int64  \n",
      " 10  device                      980239 non-null  int64  \n",
      " 11  type                        980239 non-null  object \n",
      " 12  value                       980239 non-null  float64\n",
      " 13  AdvertiserAppSize           980239 non-null  int64  \n",
      " 14  AdvertiserAppPrice(in USD)  980239 non-null  float64\n",
      " 15  AdvertiserAppTotalRating    980239 non-null  int64  \n",
      " 16  AdvertiserAppUserRating     980239 non-null  float64\n",
      " 17  AdvertiserAppAgeRating      980239 non-null  int64  \n",
      " 18  AdvertiserAppGenre          980239 non-null  int64  \n",
      " 19  clicked                     980239 non-null  int64  \n",
      "dtypes: float64(5), int64(14), object(1)\n",
      "memory usage: 149.6+ MB\n"
     ]
    }
   ],
   "source": [
    "data.info()"
   ]
  },
  {
   "cell_type": "code",
   "execution_count": 5,
   "id": "f363cafd",
   "metadata": {},
   "outputs": [],
   "source": [
    "test=pd.read_csv(\"test.csv\")"
   ]
  },
  {
   "cell_type": "code",
   "execution_count": 6,
   "id": "541cc04a",
   "metadata": {},
   "outputs": [
    {
     "data": {
      "text/html": [
       "<div>\n",
       "<style scoped>\n",
       "    .dataframe tbody tr th:only-of-type {\n",
       "        vertical-align: middle;\n",
       "    }\n",
       "\n",
       "    .dataframe tbody tr th {\n",
       "        vertical-align: top;\n",
       "    }\n",
       "\n",
       "    .dataframe thead th {\n",
       "        text-align: right;\n",
       "    }\n",
       "</style>\n",
       "<table border=\"1\" class=\"dataframe\">\n",
       "  <thead>\n",
       "    <tr style=\"text-align: right;\">\n",
       "      <th></th>\n",
       "      <th>id</th>\n",
       "      <th>publisherAppSize</th>\n",
       "      <th>publisherAppPrice(in USD)</th>\n",
       "      <th>publisherAppRatingTotal</th>\n",
       "      <th>publisherAppUserRating</th>\n",
       "      <th>publisherAppAgeRating</th>\n",
       "      <th>publisherAppGenre</th>\n",
       "      <th>country</th>\n",
       "      <th>gender</th>\n",
       "      <th>age</th>\n",
       "      <th>device</th>\n",
       "      <th>type</th>\n",
       "      <th>value</th>\n",
       "      <th>AdvertiserAppSize</th>\n",
       "      <th>AdvertiserAppPrice(in USD)</th>\n",
       "      <th>AdvertiserAppTotalRating</th>\n",
       "      <th>AdvertiserAppUserRating</th>\n",
       "      <th>AdvertiserAppAgeRating</th>\n",
       "      <th>AdvertiserAppGenre</th>\n",
       "      <th>click</th>\n",
       "    </tr>\n",
       "  </thead>\n",
       "  <tbody>\n",
       "    <tr>\n",
       "      <th>0</th>\n",
       "      <td>1</td>\n",
       "      <td>58732544</td>\n",
       "      <td>0.00</td>\n",
       "      <td>0</td>\n",
       "      <td>0.0</td>\n",
       "      <td>1</td>\n",
       "      <td>7</td>\n",
       "      <td>113</td>\n",
       "      <td>1</td>\n",
       "      <td>43</td>\n",
       "      <td>1</td>\n",
       "      <td>CPM</td>\n",
       "      <td>2.464701</td>\n",
       "      <td>83624960</td>\n",
       "      <td>0.0</td>\n",
       "      <td>17</td>\n",
       "      <td>3.5</td>\n",
       "      <td>1</td>\n",
       "      <td>2</td>\n",
       "      <td>NaN</td>\n",
       "    </tr>\n",
       "    <tr>\n",
       "      <th>1</th>\n",
       "      <td>10776</td>\n",
       "      <td>50076672</td>\n",
       "      <td>0.00</td>\n",
       "      <td>0</td>\n",
       "      <td>0.0</td>\n",
       "      <td>4</td>\n",
       "      <td>18</td>\n",
       "      <td>94</td>\n",
       "      <td>1</td>\n",
       "      <td>39</td>\n",
       "      <td>2</td>\n",
       "      <td>CPM</td>\n",
       "      <td>2.464701</td>\n",
       "      <td>83624960</td>\n",
       "      <td>0.0</td>\n",
       "      <td>17</td>\n",
       "      <td>3.5</td>\n",
       "      <td>1</td>\n",
       "      <td>2</td>\n",
       "      <td>NaN</td>\n",
       "    </tr>\n",
       "    <tr>\n",
       "      <th>2</th>\n",
       "      <td>9990</td>\n",
       "      <td>11674624</td>\n",
       "      <td>0.00</td>\n",
       "      <td>243</td>\n",
       "      <td>4.0</td>\n",
       "      <td>3</td>\n",
       "      <td>14</td>\n",
       "      <td>79</td>\n",
       "      <td>1</td>\n",
       "      <td>34</td>\n",
       "      <td>2</td>\n",
       "      <td>CPM</td>\n",
       "      <td>2.464701</td>\n",
       "      <td>83624960</td>\n",
       "      <td>0.0</td>\n",
       "      <td>17</td>\n",
       "      <td>3.5</td>\n",
       "      <td>1</td>\n",
       "      <td>2</td>\n",
       "      <td>NaN</td>\n",
       "    </tr>\n",
       "    <tr>\n",
       "      <th>3</th>\n",
       "      <td>8566</td>\n",
       "      <td>56807424</td>\n",
       "      <td>0.00</td>\n",
       "      <td>366</td>\n",
       "      <td>4.5</td>\n",
       "      <td>2</td>\n",
       "      <td>7</td>\n",
       "      <td>231</td>\n",
       "      <td>1</td>\n",
       "      <td>20</td>\n",
       "      <td>3</td>\n",
       "      <td>CPM</td>\n",
       "      <td>2.464701</td>\n",
       "      <td>83624960</td>\n",
       "      <td>0.0</td>\n",
       "      <td>17</td>\n",
       "      <td>3.5</td>\n",
       "      <td>1</td>\n",
       "      <td>2</td>\n",
       "      <td>NaN</td>\n",
       "    </tr>\n",
       "    <tr>\n",
       "      <th>4</th>\n",
       "      <td>75125</td>\n",
       "      <td>343991296</td>\n",
       "      <td>2.99</td>\n",
       "      <td>12</td>\n",
       "      <td>2.5</td>\n",
       "      <td>1</td>\n",
       "      <td>4</td>\n",
       "      <td>231</td>\n",
       "      <td>1</td>\n",
       "      <td>38</td>\n",
       "      <td>3</td>\n",
       "      <td>CPM</td>\n",
       "      <td>2.464701</td>\n",
       "      <td>83624960</td>\n",
       "      <td>0.0</td>\n",
       "      <td>17</td>\n",
       "      <td>3.5</td>\n",
       "      <td>1</td>\n",
       "      <td>2</td>\n",
       "      <td>NaN</td>\n",
       "    </tr>\n",
       "  </tbody>\n",
       "</table>\n",
       "</div>"
      ],
      "text/plain": [
       "      id  publisherAppSize  publisherAppPrice(in USD)  \\\n",
       "0      1          58732544                       0.00   \n",
       "1  10776          50076672                       0.00   \n",
       "2   9990          11674624                       0.00   \n",
       "3   8566          56807424                       0.00   \n",
       "4  75125         343991296                       2.99   \n",
       "\n",
       "   publisherAppRatingTotal  publisherAppUserRating  publisherAppAgeRating  \\\n",
       "0                        0                     0.0                      1   \n",
       "1                        0                     0.0                      4   \n",
       "2                      243                     4.0                      3   \n",
       "3                      366                     4.5                      2   \n",
       "4                       12                     2.5                      1   \n",
       "\n",
       "   publisherAppGenre  country  gender  age  device type     value  \\\n",
       "0                  7      113       1   43       1  CPM  2.464701   \n",
       "1                 18       94       1   39       2  CPM  2.464701   \n",
       "2                 14       79       1   34       2  CPM  2.464701   \n",
       "3                  7      231       1   20       3  CPM  2.464701   \n",
       "4                  4      231       1   38       3  CPM  2.464701   \n",
       "\n",
       "   AdvertiserAppSize  AdvertiserAppPrice(in USD)  AdvertiserAppTotalRating  \\\n",
       "0           83624960                         0.0                        17   \n",
       "1           83624960                         0.0                        17   \n",
       "2           83624960                         0.0                        17   \n",
       "3           83624960                         0.0                        17   \n",
       "4           83624960                         0.0                        17   \n",
       "\n",
       "   AdvertiserAppUserRating  AdvertiserAppAgeRating  AdvertiserAppGenre  click  \n",
       "0                      3.5                       1                   2    NaN  \n",
       "1                      3.5                       1                   2    NaN  \n",
       "2                      3.5                       1                   2    NaN  \n",
       "3                      3.5                       1                   2    NaN  \n",
       "4                      3.5                       1                   2    NaN  "
      ]
     },
     "execution_count": 6,
     "metadata": {},
     "output_type": "execute_result"
    }
   ],
   "source": [
    "test=test.drop(columns=['Unnamed: 0'])\n",
    "test.head()"
   ]
  },
  {
   "cell_type": "markdown",
   "id": "5015d6d7",
   "metadata": {},
   "source": [
    "# EXPLORATORY DATA ANALYSIS"
   ]
  },
  {
   "cell_type": "code",
   "execution_count": 7,
   "id": "8fe3a36f",
   "metadata": {},
   "outputs": [
    {
     "name": "stdout",
     "output_type": "stream",
     "text": [
      "<class 'pandas.core.frame.DataFrame'>\n",
      "RangeIndex: 980239 entries, 0 to 980238\n",
      "Data columns (total 20 columns):\n",
      " #   Column                      Non-Null Count   Dtype  \n",
      "---  ------                      --------------   -----  \n",
      " 0   id                          980239 non-null  int64  \n",
      " 1   publisherAppSize            980239 non-null  int64  \n",
      " 2   publisherAppPrice(in USD)   980239 non-null  float64\n",
      " 3   publisherAppRatingTotal     980239 non-null  int64  \n",
      " 4   publisherAppUserRating      980239 non-null  float64\n",
      " 5   publisherAppAgeRating       980239 non-null  int64  \n",
      " 6   publisherAppGenre           980239 non-null  int64  \n",
      " 7   country                     980239 non-null  int64  \n",
      " 8   gender                      980239 non-null  int64  \n",
      " 9   age                         980239 non-null  int64  \n",
      " 10  device                      980239 non-null  int64  \n",
      " 11  type                        980239 non-null  object \n",
      " 12  value                       980239 non-null  float64\n",
      " 13  AdvertiserAppSize           980239 non-null  int64  \n",
      " 14  AdvertiserAppPrice(in USD)  980239 non-null  float64\n",
      " 15  AdvertiserAppTotalRating    980239 non-null  int64  \n",
      " 16  AdvertiserAppUserRating     980239 non-null  float64\n",
      " 17  AdvertiserAppAgeRating      980239 non-null  int64  \n",
      " 18  AdvertiserAppGenre          980239 non-null  int64  \n",
      " 19  clicked                     980239 non-null  int64  \n",
      "dtypes: float64(5), int64(14), object(1)\n",
      "memory usage: 149.6+ MB\n"
     ]
    }
   ],
   "source": [
    "data.info()"
   ]
  },
  {
   "cell_type": "code",
   "execution_count": 8,
   "id": "617f5267",
   "metadata": {},
   "outputs": [
    {
     "data": {
      "text/plain": [
       "array(['CPM', 'CPC'], dtype=object)"
      ]
     },
     "execution_count": 8,
     "metadata": {},
     "output_type": "execute_result"
    }
   ],
   "source": [
    "data['type'].unique()"
   ]
  },
  {
   "cell_type": "code",
   "execution_count": 9,
   "id": "f72c9a24",
   "metadata": {},
   "outputs": [
    {
     "data": {
      "text/html": [
       "<div>\n",
       "<style scoped>\n",
       "    .dataframe tbody tr th:only-of-type {\n",
       "        vertical-align: middle;\n",
       "    }\n",
       "\n",
       "    .dataframe tbody tr th {\n",
       "        vertical-align: top;\n",
       "    }\n",
       "\n",
       "    .dataframe thead th {\n",
       "        text-align: right;\n",
       "    }\n",
       "</style>\n",
       "<table border=\"1\" class=\"dataframe\">\n",
       "  <thead>\n",
       "    <tr style=\"text-align: right;\">\n",
       "      <th></th>\n",
       "      <th>id</th>\n",
       "      <th>publisherAppSize</th>\n",
       "      <th>publisherAppPrice(in USD)</th>\n",
       "      <th>publisherAppRatingTotal</th>\n",
       "      <th>publisherAppUserRating</th>\n",
       "      <th>publisherAppAgeRating</th>\n",
       "      <th>publisherAppGenre</th>\n",
       "      <th>country</th>\n",
       "      <th>gender</th>\n",
       "      <th>age</th>\n",
       "      <th>device</th>\n",
       "      <th>value</th>\n",
       "      <th>AdvertiserAppSize</th>\n",
       "      <th>AdvertiserAppPrice(in USD)</th>\n",
       "      <th>AdvertiserAppTotalRating</th>\n",
       "      <th>AdvertiserAppUserRating</th>\n",
       "      <th>AdvertiserAppAgeRating</th>\n",
       "      <th>AdvertiserAppGenre</th>\n",
       "      <th>clicked</th>\n",
       "    </tr>\n",
       "  </thead>\n",
       "  <tbody>\n",
       "    <tr>\n",
       "      <th>count</th>\n",
       "      <td>980239.000000</td>\n",
       "      <td>9.802390e+05</td>\n",
       "      <td>980239.000000</td>\n",
       "      <td>9.802390e+05</td>\n",
       "      <td>980239.000000</td>\n",
       "      <td>980239.000000</td>\n",
       "      <td>980239.00000</td>\n",
       "      <td>980239.000000</td>\n",
       "      <td>980239.000000</td>\n",
       "      <td>980239.000000</td>\n",
       "      <td>980239.000000</td>\n",
       "      <td>980239.000000</td>\n",
       "      <td>9.802390e+05</td>\n",
       "      <td>980239.000000</td>\n",
       "      <td>980239.000000</td>\n",
       "      <td>980239.000000</td>\n",
       "      <td>980239.000000</td>\n",
       "      <td>980239.00000</td>\n",
       "      <td>980239.000000</td>\n",
       "    </tr>\n",
       "    <tr>\n",
       "      <th>mean</th>\n",
       "      <td>499957.740100</td>\n",
       "      <td>1.989464e+08</td>\n",
       "      <td>1.713317</td>\n",
       "      <td>1.292711e+04</td>\n",
       "      <td>3.525248</td>\n",
       "      <td>1.717638</td>\n",
       "      <td>8.58077</td>\n",
       "      <td>166.217393</td>\n",
       "      <td>0.506634</td>\n",
       "      <td>29.381956</td>\n",
       "      <td>1.514531</td>\n",
       "      <td>1.093082</td>\n",
       "      <td>2.124927e+08</td>\n",
       "      <td>1.731739</td>\n",
       "      <td>12517.055135</td>\n",
       "      <td>3.641600</td>\n",
       "      <td>1.735562</td>\n",
       "      <td>7.00456</td>\n",
       "      <td>0.240100</td>\n",
       "    </tr>\n",
       "    <tr>\n",
       "      <th>std</th>\n",
       "      <td>288688.354656</td>\n",
       "      <td>3.588559e+08</td>\n",
       "      <td>5.621658</td>\n",
       "      <td>7.704952e+04</td>\n",
       "      <td>1.519703</td>\n",
       "      <td>1.021763</td>\n",
       "      <td>4.86877</td>\n",
       "      <td>83.016613</td>\n",
       "      <td>0.499956</td>\n",
       "      <td>8.693812</td>\n",
       "      <td>1.114195</td>\n",
       "      <td>0.989102</td>\n",
       "      <td>3.617676e+08</td>\n",
       "      <td>3.405428</td>\n",
       "      <td>57216.936289</td>\n",
       "      <td>1.429354</td>\n",
       "      <td>1.020254</td>\n",
       "      <td>4.13973</td>\n",
       "      <td>0.427144</td>\n",
       "    </tr>\n",
       "    <tr>\n",
       "      <th>min</th>\n",
       "      <td>1.000000</td>\n",
       "      <td>5.898240e+05</td>\n",
       "      <td>0.000000</td>\n",
       "      <td>0.000000e+00</td>\n",
       "      <td>0.000000</td>\n",
       "      <td>1.000000</td>\n",
       "      <td>0.00000</td>\n",
       "      <td>0.000000</td>\n",
       "      <td>0.000000</td>\n",
       "      <td>15.000000</td>\n",
       "      <td>0.000000</td>\n",
       "      <td>0.100801</td>\n",
       "      <td>6.717440e+05</td>\n",
       "      <td>0.000000</td>\n",
       "      <td>0.000000</td>\n",
       "      <td>0.000000</td>\n",
       "      <td>1.000000</td>\n",
       "      <td>0.00000</td>\n",
       "      <td>0.000000</td>\n",
       "    </tr>\n",
       "    <tr>\n",
       "      <th>25%</th>\n",
       "      <td>249893.500000</td>\n",
       "      <td>4.692275e+07</td>\n",
       "      <td>0.000000</td>\n",
       "      <td>2.700000e+01</td>\n",
       "      <td>3.500000</td>\n",
       "      <td>1.000000</td>\n",
       "      <td>7.00000</td>\n",
       "      <td>79.000000</td>\n",
       "      <td>0.000000</td>\n",
       "      <td>22.000000</td>\n",
       "      <td>1.000000</td>\n",
       "      <td>0.194417</td>\n",
       "      <td>4.811162e+07</td>\n",
       "      <td>0.000000</td>\n",
       "      <td>34.000000</td>\n",
       "      <td>3.500000</td>\n",
       "      <td>1.000000</td>\n",
       "      <td>6.00000</td>\n",
       "      <td>0.000000</td>\n",
       "    </tr>\n",
       "    <tr>\n",
       "      <th>50%</th>\n",
       "      <td>499965.000000</td>\n",
       "      <td>9.715302e+07</td>\n",
       "      <td>0.000000</td>\n",
       "      <td>3.000000e+02</td>\n",
       "      <td>4.000000</td>\n",
       "      <td>1.000000</td>\n",
       "      <td>7.00000</td>\n",
       "      <td>229.000000</td>\n",
       "      <td>1.000000</td>\n",
       "      <td>29.000000</td>\n",
       "      <td>2.000000</td>\n",
       "      <td>0.295711</td>\n",
       "      <td>9.956864e+07</td>\n",
       "      <td>0.000000</td>\n",
       "      <td>307.000000</td>\n",
       "      <td>4.000000</td>\n",
       "      <td>1.000000</td>\n",
       "      <td>6.00000</td>\n",
       "      <td>0.000000</td>\n",
       "    </tr>\n",
       "    <tr>\n",
       "      <th>75%</th>\n",
       "      <td>749995.500000</td>\n",
       "      <td>1.816289e+08</td>\n",
       "      <td>1.990000</td>\n",
       "      <td>2.793000e+03</td>\n",
       "      <td>4.500000</td>\n",
       "      <td>2.000000</td>\n",
       "      <td>9.00000</td>\n",
       "      <td>231.000000</td>\n",
       "      <td>1.000000</td>\n",
       "      <td>37.000000</td>\n",
       "      <td>3.000000</td>\n",
       "      <td>2.029833</td>\n",
       "      <td>1.976832e+08</td>\n",
       "      <td>2.990000</td>\n",
       "      <td>2798.000000</td>\n",
       "      <td>4.500000</td>\n",
       "      <td>3.000000</td>\n",
       "      <td>7.00000</td>\n",
       "      <td>0.000000</td>\n",
       "    </tr>\n",
       "    <tr>\n",
       "      <th>max</th>\n",
       "      <td>1000000.000000</td>\n",
       "      <td>4.025970e+09</td>\n",
       "      <td>299.990000</td>\n",
       "      <td>2.974676e+06</td>\n",
       "      <td>5.000000</td>\n",
       "      <td>4.000000</td>\n",
       "      <td>22.00000</td>\n",
       "      <td>243.000000</td>\n",
       "      <td>1.000000</td>\n",
       "      <td>44.000000</td>\n",
       "      <td>3.000000</td>\n",
       "      <td>2.991717</td>\n",
       "      <td>3.008276e+09</td>\n",
       "      <td>39.990000</td>\n",
       "      <td>878563.000000</td>\n",
       "      <td>5.000000</td>\n",
       "      <td>4.000000</td>\n",
       "      <td>20.00000</td>\n",
       "      <td>1.000000</td>\n",
       "    </tr>\n",
       "  </tbody>\n",
       "</table>\n",
       "</div>"
      ],
      "text/plain": [
       "                   id  publisherAppSize  publisherAppPrice(in USD)  \\\n",
       "count   980239.000000      9.802390e+05              980239.000000   \n",
       "mean    499957.740100      1.989464e+08                   1.713317   \n",
       "std     288688.354656      3.588559e+08                   5.621658   \n",
       "min          1.000000      5.898240e+05                   0.000000   \n",
       "25%     249893.500000      4.692275e+07                   0.000000   \n",
       "50%     499965.000000      9.715302e+07                   0.000000   \n",
       "75%     749995.500000      1.816289e+08                   1.990000   \n",
       "max    1000000.000000      4.025970e+09                 299.990000   \n",
       "\n",
       "       publisherAppRatingTotal  publisherAppUserRating  publisherAppAgeRating  \\\n",
       "count             9.802390e+05           980239.000000          980239.000000   \n",
       "mean              1.292711e+04                3.525248               1.717638   \n",
       "std               7.704952e+04                1.519703               1.021763   \n",
       "min               0.000000e+00                0.000000               1.000000   \n",
       "25%               2.700000e+01                3.500000               1.000000   \n",
       "50%               3.000000e+02                4.000000               1.000000   \n",
       "75%               2.793000e+03                4.500000               2.000000   \n",
       "max               2.974676e+06                5.000000               4.000000   \n",
       "\n",
       "       publisherAppGenre        country         gender            age  \\\n",
       "count       980239.00000  980239.000000  980239.000000  980239.000000   \n",
       "mean             8.58077     166.217393       0.506634      29.381956   \n",
       "std              4.86877      83.016613       0.499956       8.693812   \n",
       "min              0.00000       0.000000       0.000000      15.000000   \n",
       "25%              7.00000      79.000000       0.000000      22.000000   \n",
       "50%              7.00000     229.000000       1.000000      29.000000   \n",
       "75%              9.00000     231.000000       1.000000      37.000000   \n",
       "max             22.00000     243.000000       1.000000      44.000000   \n",
       "\n",
       "              device          value  AdvertiserAppSize  \\\n",
       "count  980239.000000  980239.000000       9.802390e+05   \n",
       "mean        1.514531       1.093082       2.124927e+08   \n",
       "std         1.114195       0.989102       3.617676e+08   \n",
       "min         0.000000       0.100801       6.717440e+05   \n",
       "25%         1.000000       0.194417       4.811162e+07   \n",
       "50%         2.000000       0.295711       9.956864e+07   \n",
       "75%         3.000000       2.029833       1.976832e+08   \n",
       "max         3.000000       2.991717       3.008276e+09   \n",
       "\n",
       "       AdvertiserAppPrice(in USD)  AdvertiserAppTotalRating  \\\n",
       "count               980239.000000             980239.000000   \n",
       "mean                     1.731739              12517.055135   \n",
       "std                      3.405428              57216.936289   \n",
       "min                      0.000000                  0.000000   \n",
       "25%                      0.000000                 34.000000   \n",
       "50%                      0.000000                307.000000   \n",
       "75%                      2.990000               2798.000000   \n",
       "max                     39.990000             878563.000000   \n",
       "\n",
       "       AdvertiserAppUserRating  AdvertiserAppAgeRating  AdvertiserAppGenre  \\\n",
       "count            980239.000000           980239.000000        980239.00000   \n",
       "mean                  3.641600                1.735562             7.00456   \n",
       "std                   1.429354                1.020254             4.13973   \n",
       "min                   0.000000                1.000000             0.00000   \n",
       "25%                   3.500000                1.000000             6.00000   \n",
       "50%                   4.000000                1.000000             6.00000   \n",
       "75%                   4.500000                3.000000             7.00000   \n",
       "max                   5.000000                4.000000            20.00000   \n",
       "\n",
       "             clicked  \n",
       "count  980239.000000  \n",
       "mean        0.240100  \n",
       "std         0.427144  \n",
       "min         0.000000  \n",
       "25%         0.000000  \n",
       "50%         0.000000  \n",
       "75%         0.000000  \n",
       "max         1.000000  "
      ]
     },
     "execution_count": 9,
     "metadata": {},
     "output_type": "execute_result"
    }
   ],
   "source": [
    "data.describe()"
   ]
  },
  {
   "cell_type": "code",
   "execution_count": 10,
   "id": "688bdbe5",
   "metadata": {},
   "outputs": [
    {
     "data": {
      "text/plain": [
       "<AxesSubplot:xlabel='clicked', ylabel='count'>"
      ]
     },
     "execution_count": 10,
     "metadata": {},
     "output_type": "execute_result"
    },
    {
     "data": {
      "image/png": "[encoded data removed]",
      "text/plain": [
       "<Figure size 432x288 with 1 Axes>"
      ]
     },
     "metadata": {},
     "output_type": "display_data"
    }
   ],
   "source": [
    "sns.set_theme(style=\"darkgrid\")\n",
    "sns.countplot(x='clicked',data=data)"
   ]
  },
  {
   "cell_type": "code",
   "execution_count": 39,
   "id": "0976d9b3",
   "metadata": {},
   "outputs": [
    {
     "data": {
      "image/png": "[encoded data removed]",
      "text/plain": [
       "<Figure size 449.375x288 with 2 Axes>"
      ]
     },
     "metadata": {},
     "output_type": "display_data"
    }
   ],
   "source": [
    "g = sns.catplot(x=\"type\", hue=\"gender\", col=\"clicked\",\n",
    "                data=data, kind=\"count\",\n",
    "                height=4, aspect=.7);"
   ]
  },
  {
   "cell_type": "code",
   "execution_count": 48,
   "id": "d5ee14eb",
   "metadata": {},
   "outputs": [
    {
     "data": {
      "image/png": "[encoded data removed]",
      "text/plain": [
       "<Figure size 504x504 with 1 Axes>"
      ]
     },
     "metadata": {},
     "output_type": "display_data"
    }
   ],
   "source": [
    "plt.figure(figsize=(7,7))\n",
    "sns.histplot(data=data,x='publisherAppSize')\n",
    "plt.xticks(size=15,rotation=0)\n",
    "plt.yticks(size=15)\n",
    "plt.xlabel('publisherAppSize',fontsize=20)\n",
    "plt.ylabel('count',fontsize=20)\n",
    "plt.show()"
   ]
  },
  {
   "cell_type": "code",
   "execution_count": 43,
   "id": "821b14f0",
   "metadata": {},
   "outputs": [
    {
     "data": {
      "image/png": "[encoded data removed]",
      "text/plain": [
       "<Figure size 247.325x288 with 1 Axes>"
      ]
     },
     "metadata": {},
     "output_type": "display_data"
    }
   ],
   "source": [
    "g = sns.catplot(x=\"type\", hue=\"clicked\",\n",
    "                data=data, kind=\"count\",\n",
    "                height=4, aspect=.7);"
   ]
  },
  {
   "cell_type": "code",
   "execution_count": 41,
   "id": "2426c73a",
   "metadata": {},
   "outputs": [
    {
     "data": {
      "text/plain": [
       "<AxesSubplot:xlabel='publisherAppAgeRating', ylabel='count'>"
      ]
     },
     "execution_count": 41,
     "metadata": {},
     "output_type": "execute_result"
    },
    {
     "data": {
      "image/png": "[encoded data removed]",
      "text/plain": [
       "<Figure size 432x288 with 1 Axes>"
      ]
     },
     "metadata": {},
     "output_type": "display_data"
    }
   ],
   "source": [
    "sns.countplot(x='publisherAppAgeRating',data=data)"
   ]
  },
  {
   "cell_type": "code",
   "execution_count": 49,
   "id": "faa44042",
   "metadata": {},
   "outputs": [
    {
     "data": {
      "text/plain": [
       "<AxesSubplot:xlabel='clicked', ylabel='publisherAppSize'>"
      ]
     },
     "execution_count": 49,
     "metadata": {},
     "output_type": "execute_result"
    },
    {
     "data": {
      "image/png": "[encoded data removed]",
      "text/plain": [
       "<Figure size 360x360 with 1 Axes>"
      ]
     },
     "metadata": {},
     "output_type": "display_data"
    }
   ],
   "source": [
    "\n",
    "fig, ax = plt.subplots(figsize =(5, 5))\n",
    "sns.violinplot(ax = ax, x = data[\"clicked\"], \n",
    "                  y = data[\"publisherAppSize\"] )"
   ]
  },
  {
   "cell_type": "code",
   "execution_count": 12,
   "id": "c36f7f0d",
   "metadata": {},
   "outputs": [],
   "source": [
    "tempdata=data\n",
    "tempdata1=data\n",
    "tempdata_CPM = tempdata.loc[tempdata['type'] == 'CPM']\n",
    "tempdata_CPC = tempdata1.loc[tempdata1['type'] == 'CPC']"
   ]
  },
  {
   "cell_type": "code",
   "execution_count": null,
   "id": "91a8a88b",
   "metadata": {},
   "outputs": [],
   "source": [
    "fig, ax = plt.subplots(figsize =(9, 7))\n",
    "sns.violinplot(ax = ax, x = tempdata_CPC[\"clicked\"], \n",
    "                  y = tempdata_CPC['value'] )"
   ]
  },
  {
   "cell_type": "code",
   "execution_count": null,
   "id": "1c19fbf9",
   "metadata": {
    "scrolled": true
   },
   "outputs": [],
   "source": [
    "fig, ax = plt.subplots(figsize =(9, 7))\n",
    "sns.violinplot(ax = ax, x = tempdata_CPM[\"clicked\"], \n",
    "                  y = tempdata_CPM['value'] )"
   ]
  },
  {
   "cell_type": "code",
   "execution_count": null,
   "id": "046d0383",
   "metadata": {},
   "outputs": [],
   "source": [
    "tempdata_CPM['value'].max()"
   ]
  },
  {
   "cell_type": "code",
   "execution_count": 13,
   "id": "6e26ecbb",
   "metadata": {},
   "outputs": [
    {
     "data": {
      "text/html": [
       "<div>\n",
       "<style scoped>\n",
       "    .dataframe tbody tr th:only-of-type {\n",
       "        vertical-align: middle;\n",
       "    }\n",
       "\n",
       "    .dataframe tbody tr th {\n",
       "        vertical-align: top;\n",
       "    }\n",
       "\n",
       "    .dataframe thead th {\n",
       "        text-align: right;\n",
       "    }\n",
       "</style>\n",
       "<table border=\"1\" class=\"dataframe\">\n",
       "  <thead>\n",
       "    <tr style=\"text-align: right;\">\n",
       "      <th></th>\n",
       "      <th>id</th>\n",
       "      <th>publisherAppSize</th>\n",
       "      <th>publisherAppPrice(in USD)</th>\n",
       "      <th>publisherAppRatingTotal</th>\n",
       "      <th>publisherAppUserRating</th>\n",
       "      <th>publisherAppAgeRating</th>\n",
       "      <th>publisherAppGenre</th>\n",
       "      <th>country</th>\n",
       "      <th>gender</th>\n",
       "      <th>age</th>\n",
       "      <th>device</th>\n",
       "      <th>type</th>\n",
       "      <th>value</th>\n",
       "      <th>AdvertiserAppSize</th>\n",
       "      <th>AdvertiserAppPrice(in USD)</th>\n",
       "      <th>AdvertiserAppTotalRating</th>\n",
       "      <th>AdvertiserAppUserRating</th>\n",
       "      <th>AdvertiserAppAgeRating</th>\n",
       "      <th>AdvertiserAppGenre</th>\n",
       "      <th>clicked</th>\n",
       "    </tr>\n",
       "  </thead>\n",
       "  <tbody>\n",
       "    <tr>\n",
       "      <th>0</th>\n",
       "      <td>1</td>\n",
       "      <td>68217856</td>\n",
       "      <td>0.99</td>\n",
       "      <td>0</td>\n",
       "      <td>0.0</td>\n",
       "      <td>3</td>\n",
       "      <td>7</td>\n",
       "      <td>79</td>\n",
       "      <td>0</td>\n",
       "      <td>40</td>\n",
       "      <td>1</td>\n",
       "      <td>CPM</td>\n",
       "      <td>2.226520</td>\n",
       "      <td>52120576</td>\n",
       "      <td>0.99</td>\n",
       "      <td>14</td>\n",
       "      <td>5.0</td>\n",
       "      <td>4</td>\n",
       "      <td>0</td>\n",
       "      <td>1</td>\n",
       "    </tr>\n",
       "    <tr>\n",
       "      <th>1</th>\n",
       "      <td>2</td>\n",
       "      <td>262118400</td>\n",
       "      <td>0.00</td>\n",
       "      <td>0</td>\n",
       "      <td>0.0</td>\n",
       "      <td>1</td>\n",
       "      <td>7</td>\n",
       "      <td>12</td>\n",
       "      <td>0</td>\n",
       "      <td>36</td>\n",
       "      <td>3</td>\n",
       "      <td>CPM</td>\n",
       "      <td>2.440259</td>\n",
       "      <td>53506048</td>\n",
       "      <td>2.99</td>\n",
       "      <td>96</td>\n",
       "      <td>4.5</td>\n",
       "      <td>1</td>\n",
       "      <td>6</td>\n",
       "      <td>1</td>\n",
       "    </tr>\n",
       "    <tr>\n",
       "      <th>2</th>\n",
       "      <td>3</td>\n",
       "      <td>90249216</td>\n",
       "      <td>2.99</td>\n",
       "      <td>0</td>\n",
       "      <td>0.0</td>\n",
       "      <td>4</td>\n",
       "      <td>14</td>\n",
       "      <td>99</td>\n",
       "      <td>1</td>\n",
       "      <td>43</td>\n",
       "      <td>3</td>\n",
       "      <td>CPM</td>\n",
       "      <td>1.186457</td>\n",
       "      <td>65553408</td>\n",
       "      <td>1.99</td>\n",
       "      <td>309</td>\n",
       "      <td>4.0</td>\n",
       "      <td>1</td>\n",
       "      <td>6</td>\n",
       "      <td>0</td>\n",
       "    </tr>\n",
       "    <tr>\n",
       "      <th>3</th>\n",
       "      <td>4</td>\n",
       "      <td>68122624</td>\n",
       "      <td>0.00</td>\n",
       "      <td>10275</td>\n",
       "      <td>4.5</td>\n",
       "      <td>1</td>\n",
       "      <td>7</td>\n",
       "      <td>229</td>\n",
       "      <td>0</td>\n",
       "      <td>30</td>\n",
       "      <td>0</td>\n",
       "      <td>CPM</td>\n",
       "      <td>2.843841</td>\n",
       "      <td>11611136</td>\n",
       "      <td>2.99</td>\n",
       "      <td>185</td>\n",
       "      <td>2.5</td>\n",
       "      <td>1</td>\n",
       "      <td>6</td>\n",
       "      <td>0</td>\n",
       "    </tr>\n",
       "    <tr>\n",
       "      <th>4</th>\n",
       "      <td>5</td>\n",
       "      <td>64692224</td>\n",
       "      <td>0.00</td>\n",
       "      <td>3731</td>\n",
       "      <td>4.5</td>\n",
       "      <td>1</td>\n",
       "      <td>7</td>\n",
       "      <td>99</td>\n",
       "      <td>0</td>\n",
       "      <td>24</td>\n",
       "      <td>2</td>\n",
       "      <td>CPM</td>\n",
       "      <td>2.029833</td>\n",
       "      <td>114951168</td>\n",
       "      <td>0.00</td>\n",
       "      <td>51</td>\n",
       "      <td>3.5</td>\n",
       "      <td>2</td>\n",
       "      <td>12</td>\n",
       "      <td>0</td>\n",
       "    </tr>\n",
       "  </tbody>\n",
       "</table>\n",
       "</div>"
      ],
      "text/plain": [
       "   id  publisherAppSize  publisherAppPrice(in USD)  publisherAppRatingTotal  \\\n",
       "0   1          68217856                       0.99                        0   \n",
       "1   2         262118400                       0.00                        0   \n",
       "2   3          90249216                       2.99                        0   \n",
       "3   4          68122624                       0.00                    10275   \n",
       "4   5          64692224                       0.00                     3731   \n",
       "\n",
       "   publisherAppUserRating  publisherAppAgeRating  publisherAppGenre  country  \\\n",
       "0                     0.0                      3                  7       79   \n",
       "1                     0.0                      1                  7       12   \n",
       "2                     0.0                      4                 14       99   \n",
       "3                     4.5                      1                  7      229   \n",
       "4                     4.5                      1                  7       99   \n",
       "\n",
       "   gender  age  device type     value  AdvertiserAppSize  \\\n",
       "0       0   40       1  CPM  2.226520           52120576   \n",
       "1       0   36       3  CPM  2.440259           53506048   \n",
       "2       1   43       3  CPM  1.186457           65553408   \n",
       "3       0   30       0  CPM  2.843841           11611136   \n",
       "4       0   24       2  CPM  2.029833          114951168   \n",
       "\n",
       "   AdvertiserAppPrice(in USD)  AdvertiserAppTotalRating  \\\n",
       "0                        0.99                        14   \n",
       "1                        2.99                        96   \n",
       "2                        1.99                       309   \n",
       "3                        2.99                       185   \n",
       "4                        0.00                        51   \n",
       "\n",
       "   AdvertiserAppUserRating  AdvertiserAppAgeRating  AdvertiserAppGenre  \\\n",
       "0                      5.0                       4                   0   \n",
       "1                      4.5                       1                   6   \n",
       "2                      4.0                       1                   6   \n",
       "3                      2.5                       1                   6   \n",
       "4                      3.5                       2                  12   \n",
       "\n",
       "   clicked  \n",
       "0        1  \n",
       "1        1  \n",
       "2        0  \n",
       "3        0  \n",
       "4        0  "
      ]
     },
     "execution_count": 13,
     "metadata": {},
     "output_type": "execute_result"
    }
   ],
   "source": [
    "tempdata_CPM"
   ]
  },
  {
   "cell_type": "markdown",
   "id": "7c4d5f2f",
   "metadata": {},
   "source": [
    "# Best Features Extraction"
   ]
  },
  {
   "cell_type": "code",
   "execution_count": 7,
   "id": "162bd931",
   "metadata": {},
   "outputs": [],
   "source": [
    "from sklearn import preprocessing\n",
    " \n",
    "# label_encoder object knows how to understand word labels.\n",
    "label_encoder = preprocessing.LabelEncoder()\n",
    "data['type']= label_encoder.fit_transform(data['type'])\n",
    "#test['type']= label_encoder.fit_transform(test['type'])"
   ]
  },
  {
   "cell_type": "code",
   "execution_count": 15,
   "id": "ecdbee49",
   "metadata": {},
   "outputs": [
    {
     "data": {
      "text/plain": [
       "publisherAppSize              0.010677\n",
       "publisherAppPrice(in USD)    -0.002588\n",
       "publisherAppRatingTotal      -0.000518\n",
       "publisherAppUserRating        0.006207\n",
       "publisherAppAgeRating         0.001006\n",
       "publisherAppGenre            -0.015496\n",
       "country                       0.001276\n",
       "gender                       -0.001418\n",
       "age                           0.000448\n",
       "device                       -0.000031\n",
       "type                          0.004000\n",
       "value                         0.005998\n",
       "AdvertiserAppSize            -0.000918\n",
       "AdvertiserAppPrice(in USD)    0.006405\n",
       "AdvertiserAppTotalRating     -0.000023\n",
       "AdvertiserAppUserRating       0.000849\n",
       "AdvertiserAppAgeRating        0.000187\n",
       "AdvertiserAppGenre            0.008367\n",
       "clicked                       1.000000\n",
       "Name: clicked, dtype: float64"
      ]
     },
     "execution_count": 15,
     "metadata": {},
     "output_type": "execute_result"
    }
   ],
   "source": [
    "x.corr()['clicked']"
   ]
  },
  {
   "cell_type": "code",
   "execution_count": 16,
   "id": "b45267ef",
   "metadata": {},
   "outputs": [],
   "source": [
    "x=data.drop(columns=['id','clicked'])\n",
    "y=data['clicked']"
   ]
  },
  {
   "cell_type": "code",
   "execution_count": 17,
   "id": "e2bf6bcd",
   "metadata": {},
   "outputs": [],
   "source": [
    "#from sklearn.feature_selection import SelectKBest\n",
    "#from sklearn.feature_selection import chi2\n",
    "\n",
    "#x = x.astype(int)\n",
    "\n",
    "\n",
    "#X=SelectKBest(score_func=chi2,k=7).fit_transform(x,y)\n",
    "\n",
    "#print('o', x.shape[1])\n",
    "#print('r',X.shape[1])"
   ]
  },
  {
   "cell_type": "code",
   "execution_count": 18,
   "id": "169e0484",
   "metadata": {},
   "outputs": [],
   "source": [
    "#X=pd.DataFrame(X)\n",
    "#X.head()"
   ]
  },
  {
   "cell_type": "code",
   "execution_count": 19,
   "id": "8b128d88",
   "metadata": {},
   "outputs": [],
   "source": [
    "#x.head()"
   ]
  },
  {
   "cell_type": "code",
   "execution_count": 20,
   "id": "f7bec552",
   "metadata": {},
   "outputs": [],
   "source": [
    "X_ = data.loc[data['type'] == 0]"
   ]
  },
  {
   "cell_type": "code",
   "execution_count": null,
   "id": "7f524f1c",
   "metadata": {},
   "outputs": [],
   "source": []
  },
  {
   "cell_type": "code",
   "execution_count": 21,
   "id": "1e732cca",
   "metadata": {},
   "outputs": [],
   "source": [
    "X=X_[['publisherAppSize','publisherAppRatingTotal','publisherAppGenre','value','AdvertiserAppSize',\n",
    "              'AdvertiserAppPrice(in USD)','AdvertiserAppTotalRating','AdvertiserAppGenre']]\n",
    "test=test[['publisherAppSize','publisherAppRatingTotal','publisherAppGenre','value','AdvertiserAppSize',\n",
    "              'AdvertiserAppPrice(in USD)','AdvertiserAppTotalRating','AdvertiserAppGenre']]\n",
    "y=X_['clicked']"
   ]
  },
  {
   "cell_type": "markdown",
   "id": "9c0bb572",
   "metadata": {},
   "source": [
    "# Scalling"
   ]
  },
  {
   "cell_type": "code",
   "execution_count": 22,
   "id": "baf5eb85",
   "metadata": {},
   "outputs": [],
   "source": [
    "from sklearn.preprocessing import StandardScaler    \n",
    "st_x= StandardScaler()    \n",
    "X= st_x.fit_transform(X)    \n",
    "test= st_x.transform(test) "
   ]
  },
  {
   "cell_type": "markdown",
   "id": "0fc756be",
   "metadata": {},
   "source": [
    "# Modelling"
   ]
  },
  {
   "cell_type": "markdown",
   "id": "710941a7",
   "metadata": {},
   "source": [
    "#XGBOOST"
   ]
  },
  {
   "cell_type": "code",
   "execution_count": 27,
   "id": "a6d5b02c",
   "metadata": {},
   "outputs": [],
   "source": [
    "def classification_model_evaluation(model,x_train,y_train,x_test,y_test):\n",
    "    print(\"####################### model Evalution started #######################\")\n",
    "    train_pre = model.predict(x_train)\n",
    "    test_pre = model.predict(x_test)\n",
    "    train_pro = model.predict_proba(x_train)[:,1]\n",
    "    test_pro = model.predict_proba(x_test)[:,1]\n",
    "\n",
    "    print(\"Train Accuracy: {0} \\t Test Accuracy: {1}\".format(accuracy_score(y_train, train_pre),accuracy_score(y_test,test_pre)))\n",
    "    print(\"Train Log Loss: {0} \\t Test Log Loss: {1}\".format(log_loss(y_train, train_pro),log_loss(y_test,test_pro)))\n",
    "    print(\"Train AUC: {0} \\t\\t Test AUC: {1}\".format(roc_auc_score(y_train, train_pro,multi_class='ovo'),roc_auc_score(y_test,test_pro,multi_class='ovo')))\n",
    "    print(\"Train F1: {0} \\t\\t Test F1: {1}\".format(f1_score(y_train, train_pre,average='weighted'),f1_score(y_test,test_pre,average='weighted')))\n",
    "    print(\"Train recall: {0} \\t Test recall: {1}\".format(recall_score(y_train, train_pre,average='weighted'),recall_score(y_test,test_pre,average='weighted')))\n",
    "    print(\"Train precision: {0} \\t Test Precision: {1}\".format(precision_score(y_train, train_pre,average='weighted'),precision_score(y_test,test_pre,average='weighted')))\n",
    "    print()\n",
    "    print(\"Train Classification report: \\n{0} \\n Test classification report: \\n{1}\".format(classification_report(y_train, train_pre),classification_report(y_test,test_pre)))\n",
    "    "
   ]
  },
  {
   "cell_type": "code",
   "execution_count": 28,
   "id": "81f117d9",
   "metadata": {},
   "outputs": [],
   "source": [
    "X_train, X_test, y_train, y_test = train_test_split(X, y, test_size= 0.25, random_state=0)\n",
    "X_valid=X_test\n",
    "y_valid=y_test"
   ]
  },
  {
   "cell_type": "code",
   "execution_count": 29,
   "id": "ada5615a",
   "metadata": {},
   "outputs": [
    {
     "name": "stdout",
     "output_type": "stream",
     "text": [
      "####################### model Evalution started #######################\n",
      "Train Accuracy: 0.7614951759880926 \t Test Accuracy: 0.7618397487893219\n",
      "Train Log Loss: 0.5432096560424 \t Test Log Loss: 0.5443308681744581\n",
      "Train AUC: 0.5767549421269875 \t\t Test AUC: 0.5618274658939737\n",
      "Train F1: 0.6583894307037897 \t\t Test F1: 0.6588565199919104\n",
      "Train recall: 0.7614951759880926 \t Test recall: 0.7618397487893219\n",
      "Train precision: 0.579874903053136 \t Test Precision: 0.5803998028353771\n",
      "\n",
      "Train Classification report: \n",
      "              precision    recall  f1-score   support\n",
      "\n",
      "           0       0.76      1.00      0.86    284455\n",
      "           1       0.00      0.00      0.00     89093\n",
      "\n",
      "    accuracy                           0.76    373548\n",
      "   macro avg       0.38      0.50      0.43    373548\n",
      "weighted avg       0.58      0.76      0.66    373548\n",
      " \n",
      " Test classification report: \n",
      "              precision    recall  f1-score   support\n",
      "\n",
      "           0       0.76      1.00      0.86     94862\n",
      "           1       0.00      0.00      0.00     29655\n",
      "\n",
      "    accuracy                           0.76    124517\n",
      "   macro avg       0.38      0.50      0.43    124517\n",
      "weighted avg       0.58      0.76      0.66    124517\n",
      "\n",
      "None\n"
     ]
    }
   ],
   "source": [
    "model_xgboost = xgb.XGBClassifier(learning_rate=0.1,\n",
    "                                      max_depth=5,\n",
    "                                      n_estimators=3000,\n",
    "                                      subsample=0.5,\n",
    "                                      colsample_bytree=0.5,\n",
    "                                      eval_metric='auc',\n",
    "                                      verbosity=1)\n",
    "\n",
    "eval_set = [(X_valid, y_valid)]\n",
    "\n",
    "model_xgboost.fit(X_train,\n",
    "                  y_train,\n",
    "                  early_stopping_rounds=10,\n",
    "                  eval_set=eval_set,\n",
    "                  verbose=False)\n",
    "print(classification_model_evaluation(model_xgboost,X_train,y_train,X_valid, y_valid))"
   ]
  },
  {
   "cell_type": "code",
   "execution_count": 32,
   "id": "f3e76da6",
   "metadata": {},
   "outputs": [
    {
     "data": {
      "text/plain": [
       "XGBClassifier(base_score=0.5, booster='gbtree', colsample_bylevel=1,\n",
       "              colsample_bynode=1, colsample_bytree=0.5,\n",
       "              enable_categorical=False, eval_metric='auc', gamma=0, gpu_id=-1,\n",
       "              importance_type=None, interaction_constraints='',\n",
       "              learning_rate=0.1, max_delta_step=0, max_depth=5,\n",
       "              min_child_weight=1, missing=nan, monotone_constraints='()',\n",
       "              n_estimators=3000, n_jobs=8, num_parallel_tree=1,\n",
       "              predictor='auto', random_state=0, reg_alpha=0, reg_lambda=1,\n",
       "              scale_pos_weight=1, subsample=0.5, tree_method='exact',\n",
       "              validate_parameters=1, verbosity=1)"
      ]
     },
     "execution_count": 32,
     "metadata": {},
     "output_type": "execute_result"
    }
   ],
   "source": [
    "model_xgboost = xgb.XGBClassifier(learning_rate=0.1,\n",
    "                                      max_depth=5,\n",
    "                                      n_estimators=3000,\n",
    "                                      subsample=0.5,\n",
    "                                      colsample_bytree=0.5,\n",
    "                                      eval_metric='auc',\n",
    "                                      verbosity=1)\n",
    "\n",
    "\n",
    "\n",
    "model_xgboost.fit(X,y)\n",
    "                  "
   ]
  },
  {
   "cell_type": "code",
   "execution_count": 33,
   "id": "941ec2b2",
   "metadata": {},
   "outputs": [
    {
     "name": "stdout",
     "output_type": "stream",
     "text": [
      "(200000,)\n"
     ]
    }
   ],
   "source": [
    "predict1 = model_xgboost.predict(test)\n",
    "print(predict1.shape)"
   ]
  },
  {
   "cell_type": "code",
   "execution_count": 34,
   "id": "d4b344dd",
   "metadata": {},
   "outputs": [
    {
     "name": "stdout",
     "output_type": "stream",
     "text": [
      "[[     0 198506]\n",
      " [     1   1494]]\n"
     ]
    }
   ],
   "source": [
    "(unique, counts) = np.unique(predict1, return_counts=True)\n",
    "frequencies = np.asarray((unique, counts)).T\n",
    "\n",
    "print(frequencies)"
   ]
  },
  {
   "cell_type": "code",
   "execution_count": 23,
   "id": "fe2336cf",
   "metadata": {},
   "outputs": [
    {
     "name": "stdout",
     "output_type": "stream",
     "text": [
      "AUC Train: 0.5856\n",
      "AUC Valid: 0.5639\n"
     ]
    }
   ],
   "source": [
    "y_train_pred = model_xgboost.predict_proba(X_train)[:,1]\n",
    "y_valid_pred = model_xgboost.predict_proba(X_valid)[:,1]\n",
    "\n",
    "print(\"AUC Train: {:.4f}\\nAUC Valid: {:.4f}\".format(roc_auc_score(y_train, y_train_pred),\n",
    "                                                    roc_auc_score(y_valid, y_valid_pred)))"
   ]
  },
  {
   "cell_type": "code",
   "execution_count": null,
   "id": "bcdf730a",
   "metadata": {},
   "outputs": [],
   "source": [
    "learning_rate_list = [0.02, 0.05, 0.1]\n",
    "max_depth_list = [2, 3, 5]\n",
    "n_estimators_list = [1000, 2000, 3000]\n",
    "\n",
    "params_dict = {\"learning_rate\": learning_rate_list,\n",
    "               \"max_depth\": max_depth_list,\n",
    "               \"n_estimators\": n_estimators_list}\n",
    "\n",
    "num_combinations = 1\n",
    "for v in params_dict.values(): num_combinations *= len(v) \n",
    "\n",
    "print(num_combinations)\n",
    "params_dict"
   ]
  },
  {
   "cell_type": "code",
   "execution_count": null,
   "id": "4545bc0b",
   "metadata": {},
   "outputs": [],
   "source": [
    "def my_roc_auc_score(model, X, y): return roc_auc_score(y, model.predict_proba(X)[:,1])\n",
    "\n",
    "model_xgboost_hp = GridSearchCV(estimator=xgb.XGBClassifier(subsample=0.5,\n",
    "                                                                colsample_bytree=0.25,\n",
    "                                                                eval_metric='auc',\n",
    "                                                                use_label_encoder=False),\n",
    "                                param_grid=params_dict,\n",
    "                                cv=2,\n",
    "                                scoring=my_roc_auc_score,\n",
    "                                return_train_score=True,\n",
    "                                verbose=8)\n",
    "\n",
    "model_xgboost_hp.fit(X, y)"
   ]
  },
  {
   "cell_type": "code",
   "execution_count": null,
   "id": "ce4c534a",
   "metadata": {},
   "outputs": [],
   "source": [
    "df_cv_results = pd.DataFrame(model_xgboost_hp.cv_results_)\n",
    "df_cv_results = df_cv_results[['rank_test_score','mean_test_score','mean_train_score',\n",
    "                               'param_learning_rate', 'param_max_depth', 'param_n_estimators']]\n",
    "df_cv_results.sort_values(by='rank_test_score', inplace=True)\n",
    "df_cv_results"
   ]
  },
  {
   "cell_type": "code",
   "execution_count": null,
   "id": "172afa80",
   "metadata": {},
   "outputs": [],
   "source": [
    "model_xgboost_fin = xgb.XGBClassifier(learning_rate=0.05,\n",
    "                                          max_depth=5,\n",
    "                                          n_estimators=3000,\n",
    "                                          subsample=0.5,\n",
    "                                          colsample_bytree=0.25,\n",
    "                                          eval_metric='auc',\n",
    "                                          verbosity=1,\n",
    "                                          use_label_encoder=False)\n",
    "\n",
    "# Passing both training and validation dataset as we want to plot AUC for both\n",
    "\n",
    "\n",
    "model_xgboost_fin.fit(X_train,y_train)\n",
    "predict=model_xgboost_fin.predict(test)"
   ]
  },
  {
   "cell_type": "code",
   "execution_count": null,
   "id": "d50374b9",
   "metadata": {},
   "outputs": [],
   "source": [
    "(unique, counts) = np.unique(predict, return_counts=True)\n",
    "frequencies = np.asarray((unique, counts)).T\n",
    "\n",
    "print(frequencies)"
   ]
  },
  {
   "cell_type": "code",
   "execution_count": 43,
   "id": "c688d29c",
   "metadata": {},
   "outputs": [
    {
     "name": "stdout",
     "output_type": "stream",
     "text": [
      "####################### model Evalution started #######################\n",
      "Train Accuracy: 0.7364970499105872 \t Test Accuracy: 0.7365259362175446\n",
      "Train Log Loss: 0.5813376244290087 \t Test Log Loss: 0.5820158314907284\n",
      "Train AUC: 0.722463709705762 \t\t Test AUC: 0.7200254862851987\n",
      "Train F1: 0.7351449840256007 \t\t Test F1: 0.7347164231129241\n",
      "Train recall: 0.7364970499105872 \t Test recall: 0.7365259362175446\n",
      "Train precision: 0.7338650349947051 \t Test Precision: 0.7330337050004404\n",
      "\n",
      "Train Classification report: \n",
      "              precision    recall  f1-score   support\n",
      "\n",
      "           0       0.82      0.83      0.83    284455\n",
      "           1       0.45      0.43      0.44     89093\n",
      "\n",
      "    accuracy                           0.74    373548\n",
      "   macro avg       0.64      0.63      0.63    373548\n",
      "weighted avg       0.73      0.74      0.74    373548\n",
      " \n",
      " Test classification report: \n",
      "              precision    recall  f1-score   support\n",
      "\n",
      "           0       0.82      0.83      0.83     94862\n",
      "           1       0.44      0.43      0.44     29655\n",
      "\n",
      "    accuracy                           0.74    124517\n",
      "   macro avg       0.63      0.63      0.63    124517\n",
      "weighted avg       0.73      0.74      0.73    124517\n",
      "\n",
      "None\n"
     ]
    }
   ],
   "source": [
    "from lightgbm import LGBMClassifier\n",
    "\n",
    "model = LGBMClassifier(learning_rate=0.1,n_estimators=3000,colsample_bytree=0.9,\n",
    "                       max_depth=5,num_leaves=37,random_state=8,class_weight={0:1,1:2.5})\n",
    "\n",
    "model.fit(X, y)\n",
    "\n",
    "predict_lgbm = model.predict(test)\n",
    "print(classification_model_evaluation(model,X_train,y_train,X_valid, y_valid))"
   ]
  },
  {
   "cell_type": "code",
   "execution_count": 46,
   "id": "98b2eff8",
   "metadata": {},
   "outputs": [
    {
     "data": {
      "text/plain": [
       "<AxesSubplot:title={'center':'Feature importance'}, xlabel='Feature importance', ylabel='Features'>"
      ]
     },
     "execution_count": 46,
     "metadata": {},
     "output_type": "execute_result"
    },
    {
     "data": {
      "image/png": "[encoded data removed]",
      "text/plain": [
       "<Figure size 504x504 with 1 Axes>"
      ]
     },
     "metadata": {
      "needs_background": "light"
     },
     "output_type": "display_data"
    }
   ],
   "source": [
    "import lightgbm\n",
    "lightgbm.plot_importance(model,figsize=(7,7))"
   ]
  },
  {
   "cell_type": "code",
   "execution_count": 31,
   "id": "39213355",
   "metadata": {},
   "outputs": [
    {
     "name": "stdout",
     "output_type": "stream",
     "text": [
      "[[     0 159029]\n",
      " [     1  40971]]\n"
     ]
    }
   ],
   "source": [
    "(unique, counts) = np.unique(predict_lgbm, return_counts=True)\n",
    "frequencies = np.asarray((unique, counts)).T\n",
    "\n",
    "print(frequencies)"
   ]
  },
  {
   "cell_type": "code",
   "execution_count": 55,
   "id": "181a57b0",
   "metadata": {},
   "outputs": [],
   "source": [
    "pred=pd.DataFrame(predict_lgbm)\n",
    "pred.to_csv('results.csv')"
   ]
  },
  {
   "cell_type": "code",
   "execution_count": 37,
   "id": "7d32ebc2",
   "metadata": {},
   "outputs": [
    {
     "name": "stdout",
     "output_type": "stream",
     "text": [
      "####################### model Evalution started #######################\n",
      "Train Accuracy: 0.7276949682503989 \t Test Accuracy: 0.704385746524571\n",
      "Train Log Loss: 0.615472622050122 \t Test Log Loss: 0.6271332067404982\n",
      "Train AUC: 0.6345164779610815 \t\t Test AUC: 0.5619359067470339\n",
      "Train F1: 0.6989380761975497 \t\t Test F1: 0.6718901804362568\n",
      "Train recall: 0.7276949682503989 \t Test recall: 0.704385746524571\n",
      "Train precision: 0.6858451250541969 \t Test Precision: 0.6531628407931012\n",
      "\n",
      "Train Classification report: \n",
      "              precision    recall  f1-score   support\n",
      "\n",
      "           0       0.78      0.89      0.83    284455\n",
      "           1       0.38      0.21      0.27     89093\n",
      "\n",
      "    accuracy                           0.73    373548\n",
      "   macro avg       0.58      0.55      0.55    373548\n",
      "weighted avg       0.69      0.73      0.70    373548\n",
      " \n",
      " Test classification report: \n",
      "              precision    recall  f1-score   support\n",
      "\n",
      "           0       0.77      0.88      0.82     94862\n",
      "           1       0.28      0.16      0.20     29655\n",
      "\n",
      "    accuracy                           0.70    124517\n",
      "   macro avg       0.53      0.52      0.51    124517\n",
      "weighted avg       0.65      0.70      0.67    124517\n",
      "\n",
      "None\n"
     ]
    }
   ],
   "source": [
    "from catboost import CatBoostClassifier\n",
    "catboost_model = CatBoostClassifier(iterations=6000,\n",
    "                                    early_stopping_rounds=5,\n",
    "                                    verbose=False,\n",
    "                                    \n",
    "                                    loss_function='MultiClass',\n",
    "                                    learning_rate=0.01,\n",
    "                                    depth=7,\n",
    "                                    class_weights={0:1,1:2.5},\n",
    "                                    task_type = \"GPU\",devices='0:1')\n",
    "catboost_model.fit(X_train, y_train)\n",
    "\n",
    "predict = catboost_model.predict(test)\n",
    "print(classification_model_evaluation(catboost_model,X_train,y_train,X_valid, y_valid))"
   ]
  },
  {
   "cell_type": "code",
   "execution_count": 38,
   "id": "4749e96b",
   "metadata": {},
   "outputs": [
    {
     "name": "stdout",
     "output_type": "stream",
     "text": [
      "[[     0 175065]\n",
      " [     1  24935]]\n"
     ]
    }
   ],
   "source": [
    "(unique, counts) = np.unique(predict, return_counts=True)\n",
    "frequencies = np.asarray((unique, counts)).T\n",
    "\n",
    "print(frequencies)"
   ]
  },
  {
   "cell_type": "code",
   "execution_count": 41,
   "id": "7bd0096d",
   "metadata": {},
   "outputs": [
    {
     "name": "stdout",
     "output_type": "stream",
     "text": [
      "####################### model Evalution started #######################\n",
      "Train Accuracy: 0.9752240675897074 \t Test Accuracy: 0.7093408932113687\n",
      "Train Log Loss: 0.16841960955900617 \t Test Log Loss: 0.7177694190446735\n",
      "Train AUC: 0.9981819805608526 \t\t Test AUC: 0.524521547172993\n",
      "Train F1: 0.9749696951772698 \t\t Test F1: 0.6669547168914578\n",
      "Train recall: 0.9752240675897074 \t Test recall: 0.7093408932113687\n",
      "Train precision: 0.9752237071806027 \t Test Precision: 0.6445823625762099\n",
      "\n",
      "Train Classification report: \n",
      "              precision    recall  f1-score   support\n",
      "\n",
      "           0       0.98      0.99      0.98    284455\n",
      "           1       0.98      0.92      0.95     89093\n",
      "\n",
      "    accuracy                           0.98    373548\n",
      "   macro avg       0.98      0.96      0.97    373548\n",
      "weighted avg       0.98      0.98      0.97    373548\n",
      " \n",
      " Test classification report: \n",
      "              precision    recall  f1-score   support\n",
      "\n",
      "           0       0.76      0.89      0.82     94862\n",
      "           1       0.26      0.12      0.16     29655\n",
      "\n",
      "    accuracy                           0.71    124517\n",
      "   macro avg       0.51      0.51      0.49    124517\n",
      "weighted avg       0.64      0.71      0.67    124517\n",
      "\n",
      "None\n",
      "[[     0 188294]\n",
      " [     1  11706]]\n"
     ]
    }
   ],
   "source": [
    "model_RandomTree=RandomForestClassifier()\n",
    "model_RandomTree.fit(X_train, y_train)\n",
    "y_pred= model_RandomTree.predict(test) \n",
    "\n",
    "print(classification_model_evaluation(model_RandomTree,X_train,y_train,X_valid, y_valid))\n",
    "(unique, counts) = np.unique(y_pred, return_counts=True)\n",
    "frequencies = np.asarray((unique, counts)).T\n",
    "\n",
    "print(frequencies)"
   ]
  },
  {
   "cell_type": "code",
   "execution_count": 42,
   "id": "f0a4f719",
   "metadata": {},
   "outputs": [
    {
     "name": "stdout",
     "output_type": "stream",
     "text": [
      "####################### model Evalution started #######################\n",
      "Train Accuracy: 0.9753043785537602 \t Test Accuracy: 0.6428519800509167\n",
      "Train Log Loss: 0.03521478314244901 \t Test Log Loss: 12.135296081893486\n",
      "Train AUC: 0.9983150442172599 \t\t Test AUC: 0.5078917644767553\n",
      "Train F1: 0.9748443418669753 \t\t Test F1: 0.6426922879249556\n",
      "Train recall: 0.9753043785537602 \t Test recall: 0.6428519800509167\n",
      "Train precision: 0.9759971450562923 \t Test Precision: 0.6425329884159935\n",
      "\n",
      "Train Classification report: \n",
      "              precision    recall  f1-score   support\n",
      "\n",
      "           0       0.97      1.00      0.98    284455\n",
      "           1       1.00      0.90      0.95     89093\n",
      "\n",
      "    accuracy                           0.98    373548\n",
      "   macro avg       0.98      0.95      0.96    373548\n",
      "weighted avg       0.98      0.98      0.97    373548\n",
      " \n",
      " Test classification report: \n",
      "              precision    recall  f1-score   support\n",
      "\n",
      "           0       0.77      0.77      0.77     94862\n",
      "           1       0.25      0.25      0.25     29655\n",
      "\n",
      "    accuracy                           0.64    124517\n",
      "   macro avg       0.51      0.51      0.51    124517\n",
      "weighted avg       0.64      0.64      0.64    124517\n",
      "\n",
      "None\n",
      "[[     0 151505]\n",
      " [     1  48495]]\n"
     ]
    }
   ],
   "source": [
    "model_RandomTree=DecisionTreeClassifier()\n",
    "model_RandomTree.fit(X_train, y_train)\n",
    "y_pred= model_RandomTree.predict(test) \n",
    "\n",
    "print(classification_model_evaluation(model_RandomTree,X_train,y_train,X_valid, y_valid))\n",
    "(unique, counts) = np.unique(y_pred, return_counts=True)\n",
    "frequencies = np.asarray((unique, counts)).T\n",
    "\n",
    "print(frequencies)"
   ]
  },
  {
   "cell_type": "code",
   "execution_count": 48,
   "id": "1456095a",
   "metadata": {},
   "outputs": [
    {
     "ename": "AttributeError",
     "evalue": "'numpy.ndarray' object has no attribute 'head'",
     "output_type": "error",
     "traceback": [
      "\u001b[1;31m---------------------------------------------------------------------------\u001b[0m",
      "\u001b[1;31mAttributeError\u001b[0m                            Traceback (most recent call last)",
      "\u001b[1;32m<ipython-input-48-ae5cd47bda90>\u001b[0m in \u001b[0;36m<module>\u001b[1;34m\u001b[0m\n\u001b[1;32m----> 1\u001b[1;33m \u001b[0mX\u001b[0m\u001b[1;33m.\u001b[0m\u001b[0mhead\u001b[0m\u001b[1;33m(\u001b[0m\u001b[1;33m)\u001b[0m\u001b[1;33m\u001b[0m\u001b[1;33m\u001b[0m\u001b[0m\n\u001b[0m",
      "\u001b[1;31mAttributeError\u001b[0m: 'numpy.ndarray' object has no attribute 'head'"
     ]
    }
   ],
   "source": []
  },
  {
   "cell_type": "code",
   "execution_count": null,
   "id": "f27b9232",
   "metadata": {},
   "outputs": [],
   "source": []
  }
 ],
 "metadata": {
  "kernelspec": {
   "display_name": "Python 3",
   "language": "python",
   "name": "python3"
  },
  "language_info": {
   "codemirror_mode": {
    "name": "ipython",
    "version": 3
   },
   "file_extension": ".py",
   "mimetype": "text/x-python",
   "name": "python",
   "nbconvert_exporter": "python",
   "pygments_lexer": "ipython3",
   "version": "3.8.8"
  }
 },
 "nbformat": 4,
 "nbformat_minor": 5
}
